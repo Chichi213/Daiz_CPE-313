{
  "cells": [
    {
      "cell_type": "markdown",
      "metadata": {
        "id": "view-in-github",
        "colab_type": "text"
      },
      "source": [
        "<a href=\"https://colab.research.google.com/github/Chichi213/Daiz_CPE-313/blob/main/Daiz_Hands_on_Activity_2_2_Transfer_Learning_.ipynb\" target=\"_parent\"><img src=\"https://colab.research.google.com/assets/colab-badge.svg\" alt=\"Open In Colab\"/></a>"
      ]
    },
    {
      "cell_type": "markdown",
      "metadata": {
        "id": "annual-sandwich"
      },
      "source": [
        "# Activity 2.2 - Transfer Learning"
      ],
      "id": "annual-sandwich"
    },
    {
      "cell_type": "markdown",
      "metadata": {
        "id": "great-fireplace"
      },
      "source": [
        "#### Objective(s):\n",
        "\n",
        "This activity aims to introduce how to apply transfer learning"
      ],
      "id": "great-fireplace"
    },
    {
      "cell_type": "markdown",
      "metadata": {
        "id": "subjective-elimination"
      },
      "source": [
        "#### Intended Learning Outcomes (ILOs):\n",
        "* Demonstrate how to build and train neural network\n",
        "* Demonstrate how to apply transfer learning in neural network\n"
      ],
      "id": "subjective-elimination"
    },
    {
      "cell_type": "markdown",
      "metadata": {
        "id": "simplified-azerbaijan"
      },
      "source": [
        "#### Resources:\n",
        "* Jupyter Notebook\n",
        "* CIFAR-10 dataset"
      ],
      "id": "simplified-azerbaijan"
    },
    {
      "cell_type": "markdown",
      "metadata": {
        "id": "ordinary-crime"
      },
      "source": [
        "#### Procedures\n",
        "Load the necessary libraries"
      ],
      "id": "ordinary-crime"
    },
    {
      "cell_type": "code",
      "execution_count": 17,
      "metadata": {
        "id": "comic-joining"
      },
      "outputs": [],
      "source": [
        "from __future__ import print_function\n",
        "\n",
        "import datetime\n",
        "import keras\n",
        "from keras.datasets import mnist\n",
        "from keras.models import Sequential\n",
        "from keras.layers import Dense, Dropout, Activation, Flatten\n",
        "from keras.layers import Conv2D, MaxPooling2D\n",
        "from keras import backend as K"
      ],
      "id": "comic-joining"
    },
    {
      "cell_type": "markdown",
      "metadata": {
        "id": "moral-chair"
      },
      "source": [
        "Set the parameters"
      ],
      "id": "moral-chair"
    },
    {
      "cell_type": "code",
      "execution_count": 18,
      "metadata": {
        "id": "sticky-metallic"
      },
      "outputs": [],
      "source": [
        "now = datetime.datetime.now\n",
        "batch_size = 128\n",
        "num_classes = 5\n",
        "epochs = 5\n",
        "img_rows, img_cols = 28, 28\n",
        "filters = 32\n",
        "pool_size = 2\n",
        "kernel_size = 3"
      ],
      "id": "sticky-metallic"
    },
    {
      "cell_type": "markdown",
      "metadata": {
        "id": "resident-activity"
      },
      "source": [
        "Set how the input data is loaded"
      ],
      "id": "resident-activity"
    },
    {
      "cell_type": "code",
      "execution_count": 19,
      "metadata": {
        "id": "measured-queens"
      },
      "outputs": [],
      "source": [
        "\n",
        "if K.image_data_format() == 'channels_first':\n",
        "    input_shape = (1, img_rows, img_cols)\n",
        "else:\n",
        "    input_shape = (img_rows, img_cols, 1)"
      ],
      "id": "measured-queens"
    },
    {
      "cell_type": "markdown",
      "metadata": {
        "id": "jewish-russell"
      },
      "source": [
        "* Write a function to include all the training steps.\n",
        "* Use the model, training set, test set and number of classes as function parameters\n"
      ],
      "id": "jewish-russell"
    },
    {
      "cell_type": "code",
      "execution_count": 20,
      "metadata": {
        "id": "julian-batch"
      },
      "outputs": [],
      "source": [
        "def train_model(model, train, test, num_classes):\n",
        "    x_train = train[0].reshape((train[0].shape[0],) + input_shape)\n",
        "    x_test = test[0].reshape((test[0].shape[0],) + input_shape)\n",
        "    x_train = x_train.astype('float32')\n",
        "    x_test = x_test.astype('float32')\n",
        "    x_train /= 255\n",
        "    x_test /= 255\n",
        "    print('x_train shape:', x_train.shape)\n",
        "    print(x_train.shape[0], 'train samples')\n",
        "    print(x_test.shape[0], 'test samples')\n",
        "\n",
        "    # convert class vectors to binary class matrices\n",
        "    y_train = keras.utils.to_categorical(train[1], num_classes)\n",
        "    y_test = keras.utils.to_categorical(test[1], num_classes)\n",
        "\n",
        "    model.compile(loss='categorical_crossentropy',\n",
        "                  optimizer='adadelta',\n",
        "                  metrics=['accuracy'])\n",
        "\n",
        "    t = now()\n",
        "    model.fit(x_train, y_train,\n",
        "              batch_size=batch_size,\n",
        "              epochs=epochs,\n",
        "              verbose=1,\n",
        "              validation_data=(x_test, y_test))\n",
        "    print('Training time: %s' % (now() - t))\n",
        "\n",
        "    score = model.evaluate(x_test, y_test, verbose=0)\n",
        "    print('Test score:', score[0])\n",
        "    print('Test accuracy:', score[1])"
      ],
      "id": "julian-batch"
    },
    {
      "cell_type": "markdown",
      "metadata": {
        "id": "monetary-final"
      },
      "source": [
        "Shuffle and split the data between train and test sets"
      ],
      "id": "monetary-final"
    },
    {
      "cell_type": "code",
      "execution_count": 21,
      "metadata": {
        "id": "hollywood-amendment"
      },
      "outputs": [],
      "source": [
        "\n",
        "(x_train, y_train), (x_test, y_test) = mnist.load_data()\n",
        "\n"
      ],
      "id": "hollywood-amendment"
    },
    {
      "cell_type": "markdown",
      "metadata": {
        "id": "committed-bench"
      },
      "source": [
        "Create two datasets\n",
        "* one with digits below 5\n",
        "* one with 5 and above"
      ],
      "id": "committed-bench"
    },
    {
      "cell_type": "code",
      "execution_count": 22,
      "metadata": {
        "id": "lesser-bradley"
      },
      "outputs": [],
      "source": [
        "# digit 0 to 4\n",
        "x_train_lt5 = x_train[y_train < 5]\n",
        "y_train_lt5 = y_train[y_train < 5]\n",
        "x_test_lt5 = x_test[y_test < 5]\n",
        "y_test_lt5 = y_test[y_test < 5]\n",
        "# digit 5-9\n",
        "x_train_gte5 = x_train[y_train >= 5]\n",
        "y_train_gte5 = y_train[y_train >= 5] - 5\n",
        "x_test_gte5 = x_test[y_test >= 5]\n",
        "y_test_gte5 = y_test[y_test >= 5] - 5"
      ],
      "id": "lesser-bradley"
    },
    {
      "cell_type": "markdown",
      "metadata": {
        "id": "talented-scheme"
      },
      "source": [
        "* Define the feature layers that will used for transfer learning\n",
        "* Freeze these layers during fine-tuning process"
      ],
      "id": "talented-scheme"
    },
    {
      "cell_type": "code",
      "execution_count": 23,
      "metadata": {
        "id": "ranging-neutral"
      },
      "outputs": [],
      "source": [
        "# Feature layer\n",
        "feature_layers = [\n",
        "    Conv2D(filters, kernel_size,\n",
        "           padding='valid',\n",
        "           input_shape=input_shape),\n",
        "    Activation('relu'),\n",
        "    Conv2D(filters, kernel_size),\n",
        "    Activation('relu'),\n",
        "    MaxPooling2D(pool_size=pool_size),\n",
        "    Dropout(0.25),\n",
        "    Flatten(),\n",
        "]"
      ],
      "id": "ranging-neutral"
    },
    {
      "cell_type": "markdown",
      "metadata": {
        "id": "bulgarian-accuracy"
      },
      "source": [
        "Define the classification layers"
      ],
      "id": "bulgarian-accuracy"
    },
    {
      "cell_type": "code",
      "execution_count": 24,
      "metadata": {
        "id": "religious-timer"
      },
      "outputs": [],
      "source": [
        "#Classification layer\n",
        "classification_layers = [\n",
        "    Dense(128),\n",
        "    Activation('relu'),\n",
        "    Dropout(0.5),\n",
        "    Dense(num_classes),\n",
        "    Activation('softmax')\n",
        "]"
      ],
      "id": "religious-timer"
    },
    {
      "cell_type": "markdown",
      "metadata": {
        "id": "yellow-puzzle"
      },
      "source": [
        "Create a model by combining the feature layers and classification layers"
      ],
      "id": "yellow-puzzle"
    },
    {
      "cell_type": "code",
      "execution_count": 25,
      "metadata": {
        "id": "governmental-portable"
      },
      "outputs": [],
      "source": [
        "model = Sequential(feature_layers + classification_layers)"
      ],
      "id": "governmental-portable"
    },
    {
      "cell_type": "markdown",
      "metadata": {
        "id": "noticed-dairy"
      },
      "source": [
        "Check the model summary"
      ],
      "id": "noticed-dairy"
    },
    {
      "cell_type": "code",
      "execution_count": 26,
      "metadata": {
        "colab": {
          "base_uri": "https://localhost:8080/",
          "height": 0
        },
        "id": "correct-syria",
        "outputId": "d0cea8eb-c150-4f46-f183-8c82a267e779"
      },
      "outputs": [
        {
          "output_type": "stream",
          "name": "stdout",
          "text": [
            "Model: \"sequential_1\"\n",
            "_________________________________________________________________\n",
            " Layer (type)                Output Shape              Param #   \n",
            "=================================================================\n",
            " conv2d_2 (Conv2D)           (None, 26, 26, 32)        320       \n",
            "                                                                 \n",
            " activation_4 (Activation)   (None, 26, 26, 32)        0         \n",
            "                                                                 \n",
            " conv2d_3 (Conv2D)           (None, 24, 24, 32)        9248      \n",
            "                                                                 \n",
            " activation_5 (Activation)   (None, 24, 24, 32)        0         \n",
            "                                                                 \n",
            " max_pooling2d_1 (MaxPoolin  (None, 12, 12, 32)        0         \n",
            " g2D)                                                            \n",
            "                                                                 \n",
            " dropout_2 (Dropout)         (None, 12, 12, 32)        0         \n",
            "                                                                 \n",
            " flatten_1 (Flatten)         (None, 4608)              0         \n",
            "                                                                 \n",
            " dense_2 (Dense)             (None, 128)               589952    \n",
            "                                                                 \n",
            " activation_6 (Activation)   (None, 128)               0         \n",
            "                                                                 \n",
            " dropout_3 (Dropout)         (None, 128)               0         \n",
            "                                                                 \n",
            " dense_3 (Dense)             (None, 5)                 645       \n",
            "                                                                 \n",
            " activation_7 (Activation)   (None, 5)                 0         \n",
            "                                                                 \n",
            "=================================================================\n",
            "Total params: 600165 (2.29 MB)\n",
            "Trainable params: 600165 (2.29 MB)\n",
            "Non-trainable params: 0 (0.00 Byte)\n",
            "_________________________________________________________________\n"
          ]
        }
      ],
      "source": [
        "model.summary()"
      ],
      "id": "correct-syria"
    },
    {
      "cell_type": "markdown",
      "metadata": {
        "id": "productive-regular"
      },
      "source": [
        " Train the  model on the digits 5,6,7,8,9"
      ],
      "id": "productive-regular"
    },
    {
      "cell_type": "code",
      "execution_count": 27,
      "metadata": {
        "colab": {
          "base_uri": "https://localhost:8080/",
          "height": 0
        },
        "id": "distinct-ticket",
        "outputId": "b1092445-1fa0-4c41-a43c-e1f7780141af"
      },
      "outputs": [
        {
          "output_type": "stream",
          "name": "stdout",
          "text": [
            "x_train shape: (29404, 28, 28, 1)\n",
            "29404 train samples\n",
            "4861 test samples\n",
            "Epoch 1/5\n",
            "230/230 [==============================] - 44s 188ms/step - loss: 1.6064 - accuracy: 0.2091 - val_loss: 1.5842 - val_accuracy: 0.2674\n",
            "Epoch 2/5\n",
            "230/230 [==============================] - 47s 205ms/step - loss: 1.5781 - accuracy: 0.2678 - val_loss: 1.5525 - val_accuracy: 0.4131\n",
            "Epoch 3/5\n",
            "230/230 [==============================] - 45s 194ms/step - loss: 1.5478 - accuracy: 0.3348 - val_loss: 1.5174 - val_accuracy: 0.6098\n",
            "Epoch 4/5\n",
            "230/230 [==============================] - 45s 194ms/step - loss: 1.5143 - accuracy: 0.4026 - val_loss: 1.4779 - val_accuracy: 0.7159\n",
            "Epoch 5/5\n",
            "230/230 [==============================] - 45s 194ms/step - loss: 1.4760 - accuracy: 0.4727 - val_loss: 1.4332 - val_accuracy: 0.7558\n",
            "Training time: 0:03:45.566301\n",
            "Test score: 1.433160662651062\n",
            "Test accuracy: 0.7558115720748901\n"
          ]
        }
      ],
      "source": [
        "train_model(model,\n",
        "            (x_train_gte5, y_train_gte5),\n",
        "            (x_test_gte5, y_test_gte5), num_classes)"
      ],
      "id": "distinct-ticket"
    },
    {
      "cell_type": "markdown",
      "metadata": {
        "id": "racial-emission"
      },
      "source": [
        "Freeze only the feature layers"
      ],
      "id": "racial-emission"
    },
    {
      "cell_type": "code",
      "execution_count": 28,
      "metadata": {
        "id": "violent-territory"
      },
      "outputs": [],
      "source": [
        "for l in feature_layers:\n",
        "    l.trainable = False"
      ],
      "id": "violent-territory"
    },
    {
      "cell_type": "markdown",
      "metadata": {
        "id": "continuous-injection"
      },
      "source": [
        "Check again the summary and observe the parameters from the previous model"
      ],
      "id": "continuous-injection"
    },
    {
      "cell_type": "code",
      "execution_count": 29,
      "metadata": {
        "id": "sunset-manhattan",
        "colab": {
          "base_uri": "https://localhost:8080/",
          "height": 0
        },
        "outputId": "dd815a18-6dc8-4fa8-ac39-756b67b2b96e"
      },
      "outputs": [
        {
          "output_type": "stream",
          "name": "stdout",
          "text": [
            "Model: \"sequential_1\"\n",
            "_________________________________________________________________\n",
            " Layer (type)                Output Shape              Param #   \n",
            "=================================================================\n",
            " conv2d_2 (Conv2D)           (None, 26, 26, 32)        320       \n",
            "                                                                 \n",
            " activation_4 (Activation)   (None, 26, 26, 32)        0         \n",
            "                                                                 \n",
            " conv2d_3 (Conv2D)           (None, 24, 24, 32)        9248      \n",
            "                                                                 \n",
            " activation_5 (Activation)   (None, 24, 24, 32)        0         \n",
            "                                                                 \n",
            " max_pooling2d_1 (MaxPoolin  (None, 12, 12, 32)        0         \n",
            " g2D)                                                            \n",
            "                                                                 \n",
            " dropout_2 (Dropout)         (None, 12, 12, 32)        0         \n",
            "                                                                 \n",
            " flatten_1 (Flatten)         (None, 4608)              0         \n",
            "                                                                 \n",
            " dense_2 (Dense)             (None, 128)               589952    \n",
            "                                                                 \n",
            " activation_6 (Activation)   (None, 128)               0         \n",
            "                                                                 \n",
            " dropout_3 (Dropout)         (None, 128)               0         \n",
            "                                                                 \n",
            " dense_3 (Dense)             (None, 5)                 645       \n",
            "                                                                 \n",
            " activation_7 (Activation)   (None, 5)                 0         \n",
            "                                                                 \n",
            "=================================================================\n",
            "Total params: 600165 (2.29 MB)\n",
            "Trainable params: 590597 (2.25 MB)\n",
            "Non-trainable params: 9568 (37.38 KB)\n",
            "_________________________________________________________________\n"
          ]
        }
      ],
      "source": [
        "model.summary()"
      ],
      "id": "sunset-manhattan"
    },
    {
      "cell_type": "markdown",
      "metadata": {
        "id": "modern-carnival"
      },
      "source": [
        "Train again the model using the 0 to 4 digits"
      ],
      "id": "modern-carnival"
    },
    {
      "cell_type": "code",
      "execution_count": 30,
      "metadata": {
        "id": "comprehensive-nurse",
        "colab": {
          "base_uri": "https://localhost:8080/",
          "height": 0
        },
        "outputId": "c11ee62b-6fff-4fb6-f4a6-925419a71317"
      },
      "outputs": [
        {
          "output_type": "stream",
          "name": "stdout",
          "text": [
            "x_train shape: (30596, 28, 28, 1)\n",
            "30596 train samples\n",
            "5139 test samples\n",
            "Epoch 1/5\n",
            "240/240 [==============================] - 18s 74ms/step - loss: 1.5803 - accuracy: 0.3024 - val_loss: 1.5354 - val_accuracy: 0.5260\n",
            "Epoch 2/5\n",
            "240/240 [==============================] - 16s 68ms/step - loss: 1.5238 - accuracy: 0.3974 - val_loss: 1.4792 - val_accuracy: 0.6285\n",
            "Epoch 3/5\n",
            "240/240 [==============================] - 16s 68ms/step - loss: 1.4742 - accuracy: 0.4820 - val_loss: 1.4264 - val_accuracy: 0.6852\n",
            "Epoch 4/5\n",
            "240/240 [==============================] - 15s 63ms/step - loss: 1.4271 - accuracy: 0.5512 - val_loss: 1.3752 - val_accuracy: 0.7387\n",
            "Epoch 5/5\n",
            "240/240 [==============================] - 15s 64ms/step - loss: 1.3791 - accuracy: 0.6152 - val_loss: 1.3251 - val_accuracy: 0.7918\n",
            "Training time: 0:01:22.780245\n",
            "Test score: 1.325149655342102\n",
            "Test accuracy: 0.7917882800102234\n"
          ]
        }
      ],
      "source": [
        "train_model(model,\n",
        "            (x_train_lt5, y_train_lt5),\n",
        "            (x_test_lt5, y_test_lt5), num_classes)"
      ],
      "id": "comprehensive-nurse"
    },
    {
      "cell_type": "markdown",
      "metadata": {
        "id": "numerical-integer"
      },
      "source": [
        "#### Supplementary Activity\n",
        "Now write code to reverse this training process. That is, you will train on the digits 0-4, and then finetune only the last layers on the digits 5-9."
      ],
      "id": "numerical-integer"
    },
    {
      "cell_type": "code",
      "source": [
        "for l in feature_layers:\n",
        "    l.trainable = False"
      ],
      "metadata": {
        "id": "gThY0NkwnBif"
      },
      "id": "gThY0NkwnBif",
      "execution_count": 33,
      "outputs": []
    },
    {
      "cell_type": "code",
      "source": [
        "train_model(model,\n",
        "            (x_train_gte5, y_train_gte5),\n",
        "            (x_test_gte5, y_test_gte5), num_classes)"
      ],
      "metadata": {
        "colab": {
          "base_uri": "https://localhost:8080/",
          "height": 0
        },
        "id": "nhJGLC2WnEO4",
        "outputId": "2324ed91-9257-48b6-9676-3dccab96d245"
      },
      "id": "nhJGLC2WnEO4",
      "execution_count": 34,
      "outputs": [
        {
          "output_type": "stream",
          "name": "stdout",
          "text": [
            "x_train shape: (29404, 28, 28, 1)\n",
            "29404 train samples\n",
            "4861 test samples\n",
            "Epoch 1/5\n",
            "230/230 [==============================] - 18s 71ms/step - loss: 1.4321 - accuracy: 0.4769 - val_loss: 1.3862 - val_accuracy: 0.6248\n",
            "Epoch 2/5\n",
            "230/230 [==============================] - 17s 74ms/step - loss: 1.3942 - accuracy: 0.5323 - val_loss: 1.3460 - val_accuracy: 0.7003\n",
            "Epoch 3/5\n",
            "230/230 [==============================] - 15s 65ms/step - loss: 1.3596 - accuracy: 0.5751 - val_loss: 1.3056 - val_accuracy: 0.7535\n",
            "Epoch 4/5\n",
            "230/230 [==============================] - 19s 83ms/step - loss: 1.3203 - accuracy: 0.6229 - val_loss: 1.2654 - val_accuracy: 0.7776\n",
            "Epoch 5/5\n",
            "230/230 [==============================] - 18s 80ms/step - loss: 1.2834 - accuracy: 0.6551 - val_loss: 1.2259 - val_accuracy: 0.7988\n",
            "Training time: 0:02:23.604491\n",
            "Test score: 1.225924015045166\n",
            "Test accuracy: 0.7988068461418152\n"
          ]
        }
      ]
    },
    {
      "cell_type": "markdown",
      "metadata": {
        "id": "cardiovascular-sapphire"
      },
      "source": [
        "#### Conclusion"
      ],
      "id": "cardiovascular-sapphire"
    },
    {
      "cell_type": "markdown",
      "source": [
        "\"For this activity, we are tasked with performing transfer learning, as the name suggests, it saves the last trained model. As I observed during training throughout this activity, in our first training data, the accuracy were rather low, indicating that the model didn't learn our data well. However, during the second training session, the model improved, achieving an accuracy of 79%. In the third training session, the accuracy of the model increased to 80% when rounded to the nearest decimal point. Overall, this activity helped me better understand how transfer learning works by increasing accuracy when the model is trained repeatedly. This method will assist me in future activities and research."
      ],
      "metadata": {
        "id": "HainO9XqnRyA"
      },
      "id": "HainO9XqnRyA"
    }
  ],
  "metadata": {
    "colab": {
      "provenance": [],
      "include_colab_link": true
    },
    "kernelspec": {
      "display_name": "Python 3",
      "language": "python",
      "name": "python3"
    },
    "language_info": {
      "codemirror_mode": {
        "name": "ipython",
        "version": 3
      },
      "file_extension": ".py",
      "mimetype": "text/x-python",
      "name": "python",
      "nbconvert_exporter": "python",
      "pygments_lexer": "ipython3",
      "version": "3.7.10"
    }
  },
  "nbformat": 4,
  "nbformat_minor": 5
}