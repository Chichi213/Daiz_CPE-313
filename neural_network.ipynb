{
  "nbformat": 4,
  "nbformat_minor": 0,
  "metadata": {
    "colab": {
      "provenance": [],
      "authorship_tag": "ABX9TyMEZkpmTbvi/9DklRKgovXf",
      "include_colab_link": true
    },
    "kernelspec": {
      "name": "python3",
      "display_name": "Python 3"
    },
    "language_info": {
      "name": "python"
    }
  },
  "cells": [
    {
      "cell_type": "markdown",
      "metadata": {
        "id": "view-in-github",
        "colab_type": "text"
      },
      "source": [
        "<a href=\"https://colab.research.google.com/github/Chichi213/Daiz_CPE-313/blob/main/neural_network.ipynb\" target=\"_parent\"><img src=\"https://colab.research.google.com/assets/colab-badge.svg\" alt=\"Open In Colab\"/></a>"
      ]
    },
    {
      "cell_type": "code",
      "source": [
        "class Neuron:\n",
        "    def __init__(self, x, w):\n",
        "        self.x = x\n",
        "        self.w =\n",
        "    def sum(self):\n",
        "        total = 0\n",
        "        for x, w in zip(self.w, self.x):\n",
        "            total += x * w\n",
        "        return total\n",
        "\n",
        "    def rectified(output):\n",
        "      if output >0:\n",
        "        return output\n",
        "      else:\n",
        "        return 0\n",
        "x = [5, 7, 2, 9, 6]\n",
        "w = [0.7,0.4,0.2,0.3,0.5]\n",
        "\n",
        "result = Neuron(w, x)\n",
        "total_result = result.sum()\n",
        "print(\"Total result: \", total_result)\n",
        "with_act_function = Neuron.rectified(total_result)\n",
        "print(\"With activation input: \", with_act_function)"
      ],
      "metadata": {
        "colab": {
          "base_uri": "https://localhost:8080/"
        },
        "id": "Q2zGIM4edCuQ",
        "outputId": "d5cdc021-c40c-46bb-94aa-388be490f37c"
      },
      "execution_count": 48,
      "outputs": [
        {
          "output_type": "stream",
          "name": "stdout",
          "text": [
            "Total result:  12.4\n",
            "With activation input:  12.4\n"
          ]
        }
      ]
    }
  ]
}